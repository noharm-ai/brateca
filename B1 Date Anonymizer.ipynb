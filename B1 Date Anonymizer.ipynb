{
 "cells": [
  {
   "cell_type": "code",
   "execution_count": null,
   "id": "7b7fec63",
   "metadata": {},
   "outputs": [],
   "source": [
    "dataFolder = 'D:/Downloads/Results/Stage 3/' #replace with relevant data folder\n",
    "\n",
    "personFileName = 'B1_Admission.csv' #replace with relevant file name for the Admission CSV"
   ]
  },
  {
   "cell_type": "code",
   "execution_count": null,
   "id": "e2b82e1f",
   "metadata": {},
   "outputs": [],
   "source": [
    "from os import listdir\n",
    "\n",
    "csvList = [dataFolder+item for item in listdir(dataFolder) if item.endswith('csv')]"
   ]
  },
  {
   "cell_type": "code",
   "execution_count": null,
   "id": "5c53b243",
   "metadata": {
    "scrolled": true
   },
   "outputs": [],
   "source": [
    "##Random Days, non season compliant\n",
    "from random import randint\n",
    "import csv\n",
    "\n",
    "dateAnonDict = dict()\n",
    "\n",
    "with open(dataFolder+personFileName, encoding=\"utf-8\", newline='') as personCSV:\n",
    "    reader = csv.reader(personCSV)\n",
    "    for row in reader:\n",
    "        try:\n",
    "            personID = row[1]\n",
    "            if personID not in dateAnonDict:\n",
    "                dateAnonDict[personID] = randint(260, 521)*7 #+5 to 10 years, same weekday\n",
    "        except IndexError:\n",
    "            continue"
   ]
  },
  {
   "cell_type": "code",
   "execution_count": null,
   "id": "b564a7da",
   "metadata": {
    "scrolled": true
   },
   "outputs": [],
   "source": [
    "import csv\n",
    "from datetime import datetime, timedelta\n",
    "from re import findall\n",
    "\n",
    "first = True\n",
    "pattern = '\\d+-\\d+-\\d+'\n",
    "valueerrornum = 0\n",
    "\n",
    "for file in csvList:\n",
    "    with open(file, encoding=\"utf-8\") as currFile:\n",
    "        print(file)\n",
    "        reader = csv.reader(currFile)\n",
    "        with open(file.replace('.csv','')+'_Anon.csv', 'w+', encoding=\"utf-8\") as newFile:\n",
    "            for row in reader:\n",
    "                new_row = []\n",
    "                if first:\n",
    "                    first = False\n",
    "                    for column in row:\n",
    "                        new_row.append('\"%s\"' % (column))\n",
    "                    newFile.write(','.join(new_row)+'\\n')\n",
    "                    continue\n",
    "                personID = row[1]\n",
    "                \n",
    "                for column in row:\n",
    "                    length_column = len(column)\n",
    "                    if length_column <= 23:\n",
    "                        oldDates = findall(pattern, column)\n",
    "                        newDates = [(datetime.strptime(item, '%Y-%m-%d') + \n",
    "                                     timedelta(dateAnonDict[personID])).strftime(\"%Y-%m-%d\") for item in oldDates]\n",
    "                    if newDates:\n",
    "                        for i in range(len(newDates)):\n",
    "                            if datetime.strptime(oldDates[i], '%Y-%m-%d').weekday() != datetime.strptime(newDates[i], '%Y-%m-%d').weekday():\n",
    "                                diff = timedelta(datetime.strptime(oldDates[i], '%Y-%m-%d').weekday()-datetime.strptime(newDates[i], '%Y-%m-%d').weekday())\n",
    "                                newDates[i] = (datetime.strptime(newDates[i], '%Y-%m-%d') + diff).strftime(\"%Y-%m-%d\")\n",
    "                            column = column.replace(oldDates[i], newDates[i])\n",
    "                            \n",
    "                    column = column.replace('\"', \"''\")\n",
    "                    new_row.append('\"%s\"' % (column))\n",
    "                newFile.write(','.join(new_row)+'\\n')"
   ]
  }
 ],
 "metadata": {
  "kernelspec": {
   "display_name": "Python 3 (ipykernel)",
   "language": "python",
   "name": "python3"
  },
  "language_info": {
   "codemirror_mode": {
    "name": "ipython",
    "version": 3
   },
   "file_extension": ".py",
   "mimetype": "text/x-python",
   "name": "python",
   "nbconvert_exporter": "python",
   "pygments_lexer": "ipython3",
   "version": "3.9.12"
  }
 },
 "nbformat": 4,
 "nbformat_minor": 5
}
